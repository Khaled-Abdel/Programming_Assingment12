{
 "cells": [
  {
   "cell_type": "markdown",
   "metadata": {},
   "source": [
    "#1) Write a Python program to Extract Unique values dictionary values?"
   ]
  },
  {
   "cell_type": "code",
   "execution_count": 56,
   "metadata": {},
   "outputs": [],
   "source": [
    "def unique(**kwargs):\n",
    "    \n",
    "    list1 = []\n",
    "    for i in kwargs.values():\n",
    "        if type(i) == list or type(i) == tuple:\n",
    "            for y in i:\n",
    "                list1.append(y)\n",
    "        elif type(i) == int:\n",
    "            list1.append(i)\n",
    "        \n",
    "    list1 = list(sorted(set(list1)))\n",
    "    \n",
    "    \n",
    "    print(list1)\n",
    "    "
   ]
  },
  {
   "cell_type": "code",
   "execution_count": 57,
   "metadata": {},
   "outputs": [
    {
     "name": "stdout",
     "output_type": "stream",
     "text": [
      "[1, 2, 12, 23, 33, 34, 43, 123]\n"
     ]
    }
   ],
   "source": [
    "unique(a = [1,23,43,33],b = [1,1,1,1,2,2,2], c= (12,34,34,34), d = 123) "
   ]
  },
  {
   "cell_type": "code",
   "execution_count": null,
   "metadata": {},
   "outputs": [],
   "source": []
  },
  {
   "cell_type": "markdown",
   "metadata": {},
   "source": [
    "#2) Write a Python program to find the sum of all items in a dictionary?"
   ]
  },
  {
   "cell_type": "code",
   "execution_count": 18,
   "metadata": {},
   "outputs": [
    {
     "data": {
      "text/plain": [
       "100"
      ]
     },
     "execution_count": 18,
     "metadata": {},
     "output_type": "execute_result"
    }
   ],
   "source": [
    "def dic_sum(**kwargs):\n",
    "    total=0\n",
    "    for i in kwargs.values():\n",
    "        i = list(i)\n",
    "        for y in i:\n",
    "            if type(y) == int:\n",
    "                total += y\n",
    "    return total\n",
    "        \n",
    "dic_sum(a = [1,2,3,4,5],e ={1,2,3,4,5,6},b = [9,8,7,6,5,4,3], c= (4,5,6,7))"
   ]
  },
  {
   "cell_type": "markdown",
   "metadata": {},
   "source": [
    "#3) Write a Python program to Merging two Dictionaries?"
   ]
  },
  {
   "cell_type": "code",
   "execution_count": 21,
   "metadata": {},
   "outputs": [
    {
     "name": "stdout",
     "output_type": "stream",
     "text": [
      "merging two Dictionaries:  {'a': 'Jordan', 'b': 'india', 'c': 'pakistan', 'd': 'china'}\n"
     ]
    }
   ],
   "source": [
    "dic1 = {'a' : \"Jordan\", 'b': \"india\"}\n",
    "dic2 = {'c' : \"pakistan\", 'd': \"china\"}\n",
    "dic1.update(dic2)\n",
    "\n",
    "print(\"merging two Dictionaries: \", dic1)"
   ]
  },
  {
   "cell_type": "markdown",
   "metadata": {},
   "source": [
    "#4) Write a Python program to convert key-values list to flat dictionary?"
   ]
  },
  {
   "cell_type": "code",
   "execution_count": 8,
   "metadata": {},
   "outputs": [
    {
     "name": "stdout",
     "output_type": "stream",
     "text": [
      "The flat dictionar is  {'Sat': 1, 'Sun': 2, 'Mon': 3, 'Tues': 4, 'Wed': 5, 'Thur': 6, 'Friday': 7}\n"
     ]
    }
   ],
   "source": [
    "from itertools import product\n",
    "main_dict = {\"days_num\": [1,2,3,4,5,6,7], \"days_name\": [\"Sat\", \"Sun\", \"Mon\", \"Tues\", \"Wed\", \"Thur\", \"Friday\"]}\n",
    "\n",
    "answer = dict(zip(main_dict[\"days_name\"], main_dict[\"days_num\"]))\n",
    "\n",
    "print(\"The flat dictionar is \", answer)\n"
   ]
  },
  {
   "cell_type": "markdown",
   "metadata": {},
   "source": [
    "#5) Write a Python program to insertion at the beginning in OrderedDict?"
   ]
  },
  {
   "cell_type": "code",
   "execution_count": 38,
   "metadata": {},
   "outputs": [
    {
     "name": "stdout",
     "output_type": "stream",
     "text": [
      "moving the new data to the begining =  OrderedDict([('yes', 'no'), ('days_num', [1, 2, 3, 4, 5, 6, 7]), ('days_name', ['Sat', 'Sun', 'Mon', 'Tues', 'Wed', 'Thur', 'Friday'])])\n"
     ]
    }
   ],
   "source": [
    "from collections import OrderedDict\n",
    "\n",
    "main_dict = {\"days_num\": [1,2,3,4,5,6,7], \"days_name\": [\"Sat\", \"Sun\", \"Mon\", \"Tues\", \"Wed\", \"Thur\", \"Friday\"]}\n",
    "\n",
    "\n",
    "my_dict = OrderedDict(main_dict)\n",
    "my_dict.update({\"yes\": \"no\"})\n",
    "my_dict.move_to_end(\"yes\", last = False)\n",
    "\n",
    "print(\"moving the new data to the begining = \",my_dict)"
   ]
  },
  {
   "cell_type": "markdown",
   "metadata": {},
   "source": [
    "#6) Write a Python program to check order of character in string using OrderedDict()?"
   ]
  },
  {
   "cell_type": "code",
   "execution_count": 8,
   "metadata": {},
   "outputs": [],
   "source": [
    "from collections import OrderedDict\n",
    "\n",
    "def checkorder(check, seq):\n",
    "    dict1 = OrderedDict.fromkeys(check)\n",
    "    \n",
    "    paternlen = 0\n",
    "    \n",
    "    for key, value in dict1.items():\n",
    "        if key == seq[paternlen]:\n",
    "            paternlen += 1\n",
    "        \n",
    "        if paternlen == len(seq):\n",
    "            return \"The order of the characters are correct\"\n",
    "        \n",
    "    return \"The order is not incorrect\"\n"
   ]
  },
  {
   "cell_type": "code",
   "execution_count": 9,
   "metadata": {},
   "outputs": [
    {
     "data": {
      "text/plain": [
       "'The order of the characters are correct'"
      ]
     },
     "execution_count": 9,
     "metadata": {},
     "output_type": "execute_result"
    }
   ],
   "source": [
    "check = \"data science\"\n",
    "seq = \"das\"\n",
    "checkorder(check, seq)"
   ]
  },
  {
   "cell_type": "markdown",
   "metadata": {},
   "source": [
    "#7) Write a Python program to sort Python Dictionaries by Key or Value?"
   ]
  },
  {
   "cell_type": "code",
   "execution_count": 24,
   "metadata": {},
   "outputs": [
    {
     "name": "stdout",
     "output_type": "stream",
     "text": [
      "[1, 12, 45, 100]\n"
     ]
    }
   ],
   "source": [
    "dict1 = {\"d\": 12,\"c\": 1, \"b\" : 45,\"a\" : 100}\n",
    "list_values = []\n",
    "list_keys = []\n",
    "for i in dict1.values():\n",
    "    list_values.append(i)\n",
    "list_values.sort()\n",
    "\n",
    "print(list_values)\n"
   ]
  }
 ],
 "metadata": {
  "kernelspec": {
   "display_name": "Python 3",
   "language": "python",
   "name": "python3"
  },
  "language_info": {
   "codemirror_mode": {
    "name": "ipython",
    "version": 3
   },
   "file_extension": ".py",
   "mimetype": "text/x-python",
   "name": "python",
   "nbconvert_exporter": "python",
   "pygments_lexer": "ipython3",
   "version": "3.8.5"
  }
 },
 "nbformat": 4,
 "nbformat_minor": 4
}
